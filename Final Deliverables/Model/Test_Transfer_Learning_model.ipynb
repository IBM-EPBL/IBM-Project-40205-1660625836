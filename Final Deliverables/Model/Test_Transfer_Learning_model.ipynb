{
  "nbformat": 4,
  "nbformat_minor": 0,
  "metadata": {
    "colab": {
      "provenance": []
    },
    "kernelspec": {
      "name": "python3",
      "display_name": "Python 3"
    },
    "language_info": {
      "name": "python"
    }
  },
  "cells": [
    {
      "cell_type": "code",
      "source": [
        "#import load_model class for loading h5 file\n",
        "from tensorflow.keras.models import load_model\n",
        "#import image class to process the images\n",
        "from tensorflow.keras.preprocessing import image\n",
        "from tensorflow.keras.applications.inception_v3 import preprocess_input\n",
        "import numpy as np"
      ],
      "metadata": {
        "id": "JXZcIFDgOf3i"
      },
      "execution_count": 31,
      "outputs": []
    },
    {
      "cell_type": "code",
      "source": [
        "#load saved model file\n",
        "model=load_model('updated-xception-diabetic-retinopathy.h5')"
      ],
      "metadata": {
        "id": "iDzIUXJKNmq2"
      },
      "execution_count": 22,
      "outputs": []
    },
    {
      "cell_type": "code",
      "source": [
        "#load one random image from local system\n",
        "img=image.load_img(r'PDR.jpg',target_size=(299,299))"
      ],
      "metadata": {
        "id": "WEpLE9FyN2Xv"
      },
      "execution_count": 23,
      "outputs": []
    },
    {
      "cell_type": "code",
      "source": [
        "#convert image to array format\n",
        "x=image.img_to_array(img)"
      ],
      "metadata": {
        "id": "d9sjB5_WOFzF"
      },
      "execution_count": 24,
      "outputs": []
    },
    {
      "cell_type": "code",
      "source": [
        "import matplotlib.pyplot as plt\n",
        "x.shape"
      ],
      "metadata": {
        "colab": {
          "base_uri": "https://localhost:8080/"
        },
        "id": "83arh3WyOKs4",
        "outputId": "1727504f-5340-4752-a0f9-908363b0f971"
      },
      "execution_count": 25,
      "outputs": [
        {
          "output_type": "execute_result",
          "data": {
            "text/plain": [
              "(299, 299, 3)"
            ]
          },
          "metadata": {},
          "execution_count": 25
        }
      ]
    },
    {
      "cell_type": "code",
      "source": [
        "import numpy as np\n",
        "x=np.expand_dims(x,axis=0)\n",
        "img_data=preprocess_input(x)\n",
        "img_data.shape"
      ],
      "metadata": {
        "colab": {
          "base_uri": "https://localhost:8080/"
        },
        "id": "MPITuAy4OQRu",
        "outputId": "f072b755-a65c-4627-9daa-4fa441355945"
      },
      "execution_count": 26,
      "outputs": [
        {
          "output_type": "execute_result",
          "data": {
            "text/plain": [
              "(1, 299, 299, 3)"
            ]
          },
          "metadata": {},
          "execution_count": 26
        }
      ]
    },
    {
      "cell_type": "code",
      "source": [
        "model.predict(img_data)"
      ],
      "metadata": {
        "colab": {
          "base_uri": "https://localhost:8080/"
        },
        "id": "6oXTbn_EOT8L",
        "outputId": "c5772185-2e00-4739-e78a-9e75c94a8af3"
      },
      "execution_count": 27,
      "outputs": [
        {
          "output_type": "stream",
          "name": "stdout",
          "text": [
            "1/1 [==============================] - 1s 1s/step\n"
          ]
        },
        {
          "output_type": "execute_result",
          "data": {
            "text/plain": [
              "array([[9.9970537e-01, 1.0556175e-11, 2.9463277e-04, 5.7209237e-11,\n",
              "        1.4119197e-12]], dtype=float32)"
            ]
          },
          "metadata": {},
          "execution_count": 27
        }
      ]
    },
    {
      "cell_type": "code",
      "source": [
        "output=np.argmax(model.predict(img_data), axis=1)"
      ],
      "metadata": {
        "colab": {
          "base_uri": "https://localhost:8080/"
        },
        "id": "jBfrbJ98OZG2",
        "outputId": "61aa4baf-1cb1-4d25-b13c-2a0aa2538477"
      },
      "execution_count": 28,
      "outputs": [
        {
          "output_type": "stream",
          "name": "stdout",
          "text": [
            "1/1 [==============================] - 0s 389ms/step\n"
          ]
        }
      ]
    },
    {
      "cell_type": "code",
      "source": [
        "output==0,output==1,output==2,output==3,output==4"
      ],
      "metadata": {
        "colab": {
          "base_uri": "https://localhost:8080/"
        },
        "id": "B_e5yWbIOcul",
        "outputId": "303d0c0e-fae5-4ac8-af17-e82c393fad4d"
      },
      "execution_count": 29,
      "outputs": [
        {
          "output_type": "execute_result",
          "data": {
            "text/plain": [
              "(array([ True]),\n",
              " array([False]),\n",
              " array([False]),\n",
              " array([False]),\n",
              " array([False]))"
            ]
          },
          "metadata": {},
          "execution_count": 29
        }
      ]
    },
    {
      "cell_type": "code",
      "source": [
        "index=['No Diabetic Retinopathy', 'Mild DR', 'Moderate DR', 'Severe DR', 'Proliferative DR']\n",
        "result = str(index[output[0]])\n",
        "result"
      ],
      "metadata": {
        "colab": {
          "base_uri": "https://localhost:8080/",
          "height": 36
        },
        "id": "DYcA6z8oOhUY",
        "outputId": "ec51965e-8bdd-48f9-f7c1-050d2d2f04e6"
      },
      "execution_count": 30,
      "outputs": [
        {
          "output_type": "execute_result",
          "data": {
            "text/plain": [
              "'No Diabetic Retinopathy'"
            ],
            "application/vnd.google.colaboratory.intrinsic+json": {
              "type": "string"
            }
          },
          "metadata": {},
          "execution_count": 30
        }
      ]
    }
  ]
}